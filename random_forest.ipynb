{
 "cells": [
  {
   "cell_type": "code",
   "execution_count": 11,
   "id": "915743c4",
   "metadata": {},
   "outputs": [],
   "source": [
    "from ucimlrepo import fetch_ucirepo\n",
    "from sklearn.model_selection import cross_val_score\n",
    "from sklearn.model_selection import train_test_split\n",
    "from sklearn.metrics import classification_report\n",
    "from sklearn.model_selection import cross_val_score\n",
    "from sklearn.metrics import confusion_matrix, ConfusionMatrixDisplay\n",
    "from sklearn.ensemble import RandomForestClassifier\n",
    "from sklearn.model_selection import RandomizedSearchCV\n",
    "import numpy as np\n",
    "import matplotlib.pyplot as plt"
   ]
  },
  {
   "cell_type": "code",
   "execution_count": 3,
   "id": "1f5a7ca2",
   "metadata": {},
   "outputs": [],
   "source": [
    "wine_quality = fetch_ucirepo(id=186)\n",
    "\n",
    "# Pre-processing\n",
    "df = wine_quality.data.original\n",
    "\n",
    "def categorize_quality(quality):\n",
    "    if quality < 7:\n",
    "        return 'low'\n",
    "    else:\n",
    "        return 'high'\n",
    "\n",
    "\n",
    "df['quality_category'] = df['quality'].apply(categorize_quality)\n",
    "\n",
    "red_wine_df = df[df['color'] == 'red']\n",
    "white_wine_df = df[df['color'] == 'white']\n",
    "\n",
    "df_array = [red_wine_df, white_wine_df, df]"
   ]
  },
  {
   "cell_type": "code",
   "execution_count": 13,
   "id": "80d84e5a",
   "metadata": {},
   "outputs": [],
   "source": [
    "\n",
    "rf = RandomForestClassifier(random_state=42)\n",
    "df_names = ['Red Wine', 'White Wine', 'Combined Wine']\n",
    "\n",
    "def confusion_matrix_plot(y_test, y_pred, clf, model):\n",
    "    cm = confusion_matrix(y_test, y_pred)\n",
    "    disp = ConfusionMatrixDisplay(confusion_matrix=cm, display_labels=clf.classes_)\n",
    "\n",
    "    disp.plot(cmap=plt.cm.Blues)\n",
    "    plt.title(f'Confusion Matrix for DataFrame {model.__class__.__name__}')\n",
    "    plt.show()\n",
    "\n",
    "def optimized_folds(model, X, y):\n",
    "    best_score = 0\n",
    "    best_folds = 0\n",
    "    \n",
    "    for folds in np.arange(2, 11):\n",
    "        scores = cross_val_score(model, X, y, cv=folds, scoring='f1_macro')\n",
    "        if scores.mean() > best_score:\n",
    "            best_score = scores.mean()\n",
    "            best_folds = folds\n",
    "    \n",
    "    print(f\"Best Folds: {best_folds} | Best Score: {best_score}\", end=\" | \")\n",
    "    return best_folds\n",
    "\n",
    "\n"
   ]
  },
  {
   "cell_type": "code",
   "execution_count": null,
   "id": "a11e0521",
   "metadata": {},
   "outputs": [
    {
     "name": "stdout",
     "output_type": "stream",
     "text": [
      "========================================\n",
      "\n",
      "Processing Red Wine DataFrame\n",
      "========================================\n",
      "Best Folds: 9 | Best Score: 0.6854182647328406 | Fitting 9 folds for each of 10 candidates, totalling 90 fits\n"
     ]
    }
   ],
   "source": [
    "for i, df in enumerate(df_array):\n",
    "    print(\"=\" * 40)\n",
    "    print(f\"Processing {df_names[i]} DataFrame\")\n",
    "    print(\"=\" * 40)\n",
    "    \n",
    "    X = df.drop(['quality', 'quality_category', 'color'], axis=1)\n",
    "    y = df['quality_category']\n",
    "\n",
    "    fold_options = np.arange(5, 15)\n",
    "    best_folds = optimized_folds(rf, X, y)\n",
    "\n",
    "    X_train, X_test, y_train, y_test = train_test_split(X, y, test_size=0.3, random_state=42, stratify=y)\n",
    "\n",
    "    # Randomized Search CV (faster alternative to Grid Search)\n",
    "    param_dist = {\n",
    "        'n_estimators': np.arange(50, 300, 50),\n",
    "        'max_depth': [None] + list(np.arange(5, 50, 5)),\n",
    "        'min_samples_split': np.arange(2, 20, 2),\n",
    "        'min_samples_leaf': np.arange(1, 10, 1),\n",
    "        'max_features': ['sqrt', 'log2', None],\n",
    "        'bootstrap': [True, False]\n",
    "    }\n",
    "\n",
    "    rf = RandomForestClassifier(random_state=42)\n",
    "\n",
    "    random_search = RandomizedSearchCV(\n",
    "        estimator=rf,\n",
    "        param_distributions=param_dist,\n",
    "        cv=best_folds,\n",
    "        n_jobs=-1,  # Use all available cores\n",
    "        scoring='accuracy',\n",
    "        random_state=42,\n",
    "        verbose=1 # how much output to show during the search\n",
    "    )\n",
    "\n",
    "    random_search.fit(X_train, y_train)\n",
    "\n",
    "    print(f\"Best parameters: {random_search.best_params_}\")\n",
    "\n",
    "    # Evaluation metrics\n",
    "    y_pred = random_search.predict(X_test)\n",
    "\n",
    "    print(classification_report(y_test, y_pred))\n",
    "    confusion_matrix_plot(y_test, y_pred, random_search, rf)"
   ]
  },
  {
   "cell_type": "code",
   "execution_count": null,
   "id": "cc8b1fa8",
   "metadata": {},
   "outputs": [],
   "source": []
  },
  {
   "cell_type": "code",
   "execution_count": null,
   "id": "9c0bbc72",
   "metadata": {},
   "outputs": [],
   "source": []
  }
 ],
 "metadata": {
  "kernelspec": {
   "display_name": "islp",
   "language": "python",
   "name": "python3"
  },
  "language_info": {
   "codemirror_mode": {
    "name": "ipython",
    "version": 3
   },
   "file_extension": ".py",
   "mimetype": "text/x-python",
   "name": "python",
   "nbconvert_exporter": "python",
   "pygments_lexer": "ipython3",
   "version": "3.11.13"
  }
 },
 "nbformat": 4,
 "nbformat_minor": 5
}
