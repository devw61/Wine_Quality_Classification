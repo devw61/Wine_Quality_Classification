{
 "cells": [
  {
   "cell_type": "code",
   "execution_count": 17,
   "id": "1ef65580",
   "metadata": {},
   "outputs": [],
   "source": [
    "from ucimlrepo import fetch_ucirepo\n",
    "from sklearn.metrics import confusion_matrix, ConfusionMatrixDisplay\n",
    "from sklearn.model_selection import GridSearchCV\n",
    "import matplotlib.pyplot as plt\n",
    "\n",
    "wine_quality = fetch_ucirepo(id=186)"
   ]
  },
  {
   "cell_type": "code",
   "execution_count": 18,
   "id": "e8d9a7b7",
   "metadata": {},
   "outputs": [],
   "source": [
    "# Pre-processing\n",
    "df = wine_quality.data.original\n",
    "\n",
    "def categorize_quality(quality):\n",
    "    if quality < 7:\n",
    "        return 'low'\n",
    "    else:\n",
    "        return 'high'\n",
    "\n",
    "\n",
    "df['quality_category'] = df['quality'].apply(categorize_quality)\n",
    "\n",
    "red_wine_df = df[df['color'] == 'red']\n",
    "white_wine_df = df[df['color'] == 'white']\n",
    "\n",
    "df_array = [red_wine_df, white_wine_df, df]"
   ]
  },
  {
   "cell_type": "markdown",
   "id": "2114e64e",
   "metadata": {},
   "source": [
    "## Possible models:\n",
    "SVM | Decision Tree | Random Forest | KNN | QDA | (Possible) Lasso"
   ]
  },
  {
   "cell_type": "code",
   "execution_count": 24,
   "id": "beb70c97",
   "metadata": {},
   "outputs": [
    {
     "name": "stdout",
     "output_type": "stream",
     "text": [
      "['red'] | 15 | Accuracy of KNN on 0 wine data: 0.86\n",
      "['white'] | 15 | Accuracy of KNN on 1 wine data: 0.86\n",
      "['red' 'white'] | 15 | Accuracy of KNN on 2 wine data: 0.86\n"
     ]
    }
   ],
   "source": [
    "# KNN\n",
    "\n",
    "from sklearn.model_selection import train_test_split\n",
    "from sklearn.neighbors import KNeighborsClassifier\n",
    "\n",
    "df_num = 0\n",
    "for df in df_array:\n",
    "    print(df[\"color\"].unique(), end=\" | \")\n",
    "    X = red_wine_df.drop(columns=['quality', 'quality_category', 'color'])\n",
    "    y = red_wine_df['quality_category']\n",
    "\n",
    "    X_train, X_test, y_train, y_test = train_test_split(X, y, test_size=0.3, random_state=42)\n",
    "\n",
    "    # find optimized K value\n",
    "    param_grid = {'n_neighbors': range(1, 20)}\n",
    "    grid_search = GridSearchCV(KNeighborsClassifier(), param_grid, cv=5)\n",
    "    grid_search.fit(X_train, y_train)\n",
    "    print(grid_search.best_params_['n_neighbors'], end=\" | \")\n",
    "\n",
    "    knn = KNeighborsClassifier(n_neighbors=grid_search.best_params_['n_neighbors'])\n",
    "    knn.fit(X_train, y_train)\n",
    "\n",
    "    accuracy = knn.score(X_test, y_test)\n",
    "    print(f'Accuracy of KNN on {df_num} wine data: {accuracy:.2f}')\n",
    "    df_num += 1"
   ]
  },
  {
   "cell_type": "code",
   "execution_count": 16,
   "id": "d1295a8b",
   "metadata": {},
   "outputs": [
    {
     "data": {
      "text/plain": [
       "array([[ 13,  54],\n",
       "       [ 14, 399]])"
      ]
     },
     "execution_count": 16,
     "metadata": {},
     "output_type": "execute_result"
    }
   ],
   "source": [
    "# confusion matrix\n",
    "y_pred = knn.predict(X_test)\n",
    "confusion_matrix(y_test, y_pred, labels=knn.classes_)"
   ]
  },
  {
   "cell_type": "code",
   "execution_count": null,
   "id": "84739204",
   "metadata": {},
   "outputs": [],
   "source": []
  }
 ],
 "metadata": {
  "kernelspec": {
   "display_name": "islp",
   "language": "python",
   "name": "python3"
  },
  "language_info": {
   "codemirror_mode": {
    "name": "ipython",
    "version": 3
   },
   "file_extension": ".py",
   "mimetype": "text/x-python",
   "name": "python",
   "nbconvert_exporter": "python",
   "pygments_lexer": "ipython3",
   "version": "3.11.13"
  }
 },
 "nbformat": 4,
 "nbformat_minor": 5
}
