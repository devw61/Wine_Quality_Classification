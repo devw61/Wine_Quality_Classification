{
 "cells": [
  {
   "metadata": {
    "ExecuteTime": {
     "end_time": "2025-08-04T20:06:49.795987Z",
     "start_time": "2025-08-04T20:06:49.782948Z"
    }
   },
   "cell_type": "code",
   "source": [
    "from sklearn.tree import DecisionTreeClassifier\n",
    "import pandas as pd\n",
    "from sklearn.model_selection import train_test_split\n",
    "from sklearn.metrics import classification_report"
   ],
   "id": "b27c8a6289c5ea9e",
   "outputs": [],
   "execution_count": 7
  },
  {
   "metadata": {
    "ExecuteTime": {
     "end_time": "2025-08-04T20:08:19.971619Z",
     "start_time": "2025-08-04T20:08:19.953916Z"
    }
   },
   "cell_type": "code",
   "source": [
    "red = pd.read_csv(\"/Users/ellalee/Downloads/wine+quality/winequality-red.csv\", sep = ';')\n",
    "white = pd.read_csv(\"/Users/ellalee/Downloads/wine+quality/winequality-white.csv\", sep = ';')\n",
    "\n",
    "red['color'] = 'red'\n",
    "white['color'] = 'white'\n",
    "\n",
    "df = pd.concat([red, white], ignore_index=True)\n",
    "\n",
    "both = df\n",
    "df_array = [red, white, both]\n",
    "results = []\n",
    "\n",
    "def categorize_quality(quality):\n",
    "    if quality < 7:\n",
    "        return 'low'\n",
    "    else:\n",
    "        return 'high'\n",
    "\n",
    "df['quality_category'] = df['quality'].apply(categorize_quality)\n",
    "red['quality_category'] = red['quality'].apply(categorize_quality)\n",
    "white['quality_category'] = white['quality'].apply(categorize_quality)\n",
    "\n",
    "df_array = [red, white, df]\n",
    "wine_names = ['red', 'white', 'red and white']"
   ],
   "id": "13094b0b506b5044",
   "outputs": [],
   "execution_count": 9
  },
  {
   "metadata": {
    "ExecuteTime": {
     "end_time": "2025-08-05T02:34:39.340610Z",
     "start_time": "2025-08-05T02:34:39.261425Z"
    }
   },
   "cell_type": "code",
   "source": [
    "results=[]\n",
    "\n",
    "for df in df_array:\n",
    "    X = df.drop(['quality', 'quality_category', 'color'], axis=1)\n",
    "    y = df['quality_category']\n",
    "\n",
    "    X_train, X_test, y_train, y_test = train_test_split(X, y, test_size=0.2, random_state=42)\n",
    "\n",
    "    dt = DecisionTreeClassifier(random_state=42)\n",
    "    dt.fit(X_train, y_train)\n",
    "\n",
    "    y_pred = dt.predict(X_test)\n",
    "    report = classification_report(y_test, y_pred, output_dict=True)\n",
    "    results.append(report)\n",
    "\n",
    "for name, report in zip(wine_names, results):\n",
    "    print(\"Decision tree for \" + name + \" dataset\")\n",
    "    print(f\"accuracy: {report['accuracy']}\")\n",
    "    print(\"----------------------\")"
   ],
   "id": "59f468786041f50d",
   "outputs": [
    {
     "name": "stdout",
     "output_type": "stream",
     "text": [
      "Decision tree for red dataset\n",
      "accuracy: 0.871875\n",
      "----------------------\n",
      "Decision tree for white dataset\n",
      "accuracy: 0.8295918367346938\n",
      "----------------------\n",
      "Decision tree for red and white dataset\n",
      "accuracy: 0.8346153846153846\n",
      "----------------------\n"
     ]
    }
   ],
   "execution_count": 15
  }
 ],
 "metadata": {
  "kernelspec": {
   "display_name": "Python 3",
   "language": "python",
   "name": "python3"
  },
  "language_info": {
   "codemirror_mode": {
    "name": "ipython",
    "version": 2
   },
   "file_extension": ".py",
   "mimetype": "text/x-python",
   "name": "python",
   "nbconvert_exporter": "python",
   "pygments_lexer": "ipython2",
   "version": "2.7.6"
  }
 },
 "nbformat": 4,
 "nbformat_minor": 5
}
