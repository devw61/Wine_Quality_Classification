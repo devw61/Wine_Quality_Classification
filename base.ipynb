{
 "cells": [
  {
   "cell_type": "code",
   "execution_count": null,
   "id": "1ef65580",
   "metadata": {},
   "outputs": [],
   "source": [
    "from ucimlrepo import fetch_ucirepo\n",
    "\n",
    "wine_quality = fetch_ucirepo(id=186)"
   ]
  },
  {
   "cell_type": "code",
   "execution_count": null,
   "id": "e8d9a7b7",
   "metadata": {},
   "outputs": [],
   "source": [
    "# Pre-processing\n",
    "df = wine_quality.data.original\n",
    "\n",
    "def categorize_quality(quality):\n",
    "    if quality < 7:\n",
    "        return 'bad'\n",
    "    else:\n",
    "        return 'good'\n",
    "\n",
    "\n",
    "df['quality_category'] = df['quality'].apply(categorize_quality)\n",
    "\n",
    "red_wine_df = df[df['color'] == 'red']\n",
    "white_wine_df = df[df['color'] == 'white']\n",
    "\n",
    "df_array = [red_wine_df, white_wine_df, df]"
   ]
  },
  {
   "cell_type": "markdown",
   "id": "2114e64e",
   "metadata": {},
   "source": [
    "## Possible models:\n",
    "SVM | Decision Tree | Random Forest | KNN | QDA | (Possible) Lasso"
   ]
  },
  {
   "cell_type": "code",
   "execution_count": null,
   "id": "84739204",
   "metadata": {},
   "outputs": [],
   "source": []
  }
 ],
 "metadata": {
  "kernelspec": {
   "display_name": "islp",
   "language": "python",
   "name": "python3"
  },
  "language_info": {
   "codemirror_mode": {
    "name": "ipython",
    "version": 3
   },
   "file_extension": ".py",
   "mimetype": "text/x-python",
   "name": "python",
   "nbconvert_exporter": "python",
   "pygments_lexer": "ipython3",
   "version": "3.11.13"
  }
 },
 "nbformat": 4,
 "nbformat_minor": 5
}
