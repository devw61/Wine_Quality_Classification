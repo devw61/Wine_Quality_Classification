{
 "cells": [
  {
   "cell_type": "code",
   "id": "initial_id",
   "metadata": {
    "collapsed": true,
    "ExecuteTime": {
     "end_time": "2025-08-04T19:36:43.781524Z",
     "start_time": "2025-08-04T19:36:36.857176Z"
    }
   },
   "source": [
    "import pandas as pd\n",
    "from sklearn.model_selection import train_test_split\n",
    "from sklearn.svm import SVC\n",
    "from sklearn.metrics import classification_report\n",
    "from sklearn.preprocessing import StandardScaler"
   ],
   "outputs": [],
   "execution_count": 1
  },
  {
   "metadata": {
    "ExecuteTime": {
     "end_time": "2025-08-04T19:44:37.511237Z",
     "start_time": "2025-08-04T19:44:37.498464Z"
    }
   },
   "cell_type": "code",
   "source": [
    "red = pd.read_csv(\"/Users/ellalee/Downloads/wine+quality/winequality-red.csv\", sep = ';')\n",
    "white = pd.read_csv(\"/Users/ellalee/Downloads/wine+quality/winequality-white.csv\", sep = ';')\n",
    "\n",
    "red['color'] = 'red'\n",
    "white['color'] = 'white'\n",
    "\n",
    "df = pd.concat([red, white], ignore_index=True)\n",
    "\n",
    "both = df\n",
    "df_array = [red, white, both]\n",
    "results = []"
   ],
   "id": "28a74259cf7b8b1",
   "outputs": [],
   "execution_count": 10
  },
  {
   "metadata": {
    "ExecuteTime": {
     "end_time": "2025-08-04T19:49:27.844861Z",
     "start_time": "2025-08-04T19:49:27.833389Z"
    }
   },
   "cell_type": "code",
   "source": [
    "def categorize_quality(quality):\n",
    "    if quality < 7:\n",
    "        return 'low'\n",
    "    else:\n",
    "        return 'high'\n",
    "\n",
    "df['quality_category'] = df['quality'].apply(categorize_quality)\n",
    "red['quality_category'] = red['quality'].apply(categorize_quality)\n",
    "white['quality_category'] = white['quality'].apply(categorize_quality)"
   ],
   "id": "8c8ebc8ad1646217",
   "outputs": [],
   "execution_count": 12
  },
  {
   "metadata": {
    "ExecuteTime": {
     "end_time": "2025-08-04T19:55:01.702082Z",
     "start_time": "2025-08-04T19:55:01.214555Z"
    }
   },
   "cell_type": "code",
   "source": [
    "for wine in df_array:\n",
    "    X = wine.drop(['quality', 'quality_category', 'color'], axis=1)\n",
    "    y = wine['quality_category']\n",
    "\n",
    "    scaler = StandardScaler()\n",
    "    X_scaled = scaler.fit_transform(X)\n",
    "\n",
    "    X_train, X_test, y_train, y_test = train_test_split(X_scaled, y, random_state=42, test_size=0.2)\n",
    "\n",
    "    svm = SVC(random_state=42, kernel='rbf')\n",
    "    svm.fit(X_train, y_train)\n",
    "\n",
    "    y_pred = svm.predict(X_test)\n",
    "    report = classification_report(y_test, y_pred, output_dict=True)\n",
    "    results.append(report)"
   ],
   "id": "6277d8b250a28f45",
   "outputs": [],
   "execution_count": 19
  },
  {
   "metadata": {
    "ExecuteTime": {
     "end_time": "2025-08-05T02:34:33.059806Z",
     "start_time": "2025-08-05T02:34:33.054158Z"
    }
   },
   "cell_type": "code",
   "source": [
    "wine_names = ['red', 'white', 'red and white']\n",
    "#print(len(results), len(wine_names))\n",
    "\n",
    "for i, report in zip(wine_names, results):\n",
    "    print(\"SVM for \" + i + \" dataset\")\n",
    "    print(f\"accuracy: {report['accuracy']}\" )\n",
    "    print(\"---------------------\")"
   ],
   "id": "37726dab647c3d75",
   "outputs": [
    {
     "name": "stdout",
     "output_type": "stream",
     "text": [
      "SVM for red dataset\n",
      "accuracy: 0.875\n",
      "---------------------\n",
      "SVM for white dataset\n",
      "accuracy: 0.8214285714285714\n",
      "---------------------\n",
      "SVM for red and white dataset\n",
      "accuracy: 0.8369230769230769\n",
      "---------------------\n"
     ]
    }
   ],
   "execution_count": 29
  }
 ],
 "metadata": {
  "kernelspec": {
   "display_name": "Python 3",
   "language": "python",
   "name": "python3"
  },
  "language_info": {
   "codemirror_mode": {
    "name": "ipython",
    "version": 2
   },
   "file_extension": ".py",
   "mimetype": "text/x-python",
   "name": "python",
   "nbconvert_exporter": "python",
   "pygments_lexer": "ipython2",
   "version": "2.7.6"
  }
 },
 "nbformat": 4,
 "nbformat_minor": 5
}
